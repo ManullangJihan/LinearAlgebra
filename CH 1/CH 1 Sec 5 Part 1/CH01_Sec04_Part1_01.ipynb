{
 "cells": [
  {
   "cell_type": "markdown",
   "metadata": {},
   "source": [
    "## Contoh #2 :\n",
    "\n",
    "Ubahlah persamaan sistem ini ke dalam bentuk matriks, lalu carilah nilai $x$, $y$, dan $z$\n",
    "\n",
    "$$ 2x + 3y + z = -1 $$\n",
    "$$ 3x + 3y + z = 1 $$\n",
    "$$ 2x + 4y + z = 2 $$\n",
    "\n",
    "Jawaban :\n",
    "Bentuk matriksnya adalah \n",
    "\n",
    "$$ \\begin{pmatrix} 2 & 3 & 1\\\\ 3 & 3 & 1\\\\ 2 & 4 & 1\\end{pmatrix} \\begin{pmatrix} x \\\\y\\\\z\\end{pmatrix} = \\begin{pmatrix} -1\\\\1\\\\2\\end{pmatrix} $$\n",
    "\n",
    "kita sudah mendapatkan bentuk $A\\vec{x} = \\vec{b}$\n",
    "\n",
    "maka untuk mencari nilai $\\vec{x}$ yang harus kita lakukan adalah mencari inverse dari matriks $A^{-1} $lalu mengkalikannya dengan $\\vec{b}$\n",
    "\n",
    "$$ \\vec{x} = A^{-1}\\vec{b} $$"
   ]
  },
  {
   "cell_type": "code",
   "execution_count": 6,
   "metadata": {},
   "outputs": [
    {
     "name": "stdout",
     "output_type": "stream",
     "text": [
      "[[  2.]\n",
      " [  3.]\n",
      " [-14.]]\n"
     ]
    }
   ],
   "source": [
    "from numpy import array, dot\n",
    "from numpy.linalg import inv\n",
    "\n",
    "A = array([[2,3,1],\n",
    "           [3,3,1],\n",
    "           [2,4,1]])\n",
    "b = array([[-1],\n",
    "           [1],\n",
    "           [2]])\n",
    "\n",
    "x = dot(inv(A),b)\n",
    "\n",
    "print(x)"
   ]
  },
  {
   "cell_type": "markdown",
   "metadata": {},
   "source": [
    "Dari Hasil diatas dapat kita simpulkan bahwa :\n",
    "\n",
    "$$ \\begin{pmatrix} x\\\\y\\\\z\\end{pmatrix} = \\begin{pmatrix} 2\\\\3\\\\-14\\end{pmatrix} $$\n",
    "\n",
    "untuk memenuhi persamaan sistem :\n",
    "\n",
    "$$ 2x + 3y + z = -1 $$\n",
    "$$ 3x + 3y + z = 1 $$\n",
    "$$ 2x + 4y + z = 2 $$"
   ]
  },
  {
   "cell_type": "code",
   "execution_count": null,
   "metadata": {},
   "outputs": [],
   "source": []
  }
 ],
 "metadata": {
  "kernelspec": {
   "display_name": "Python 3",
   "language": "python",
   "name": "python3"
  },
  "language_info": {
   "codemirror_mode": {
    "name": "ipython",
    "version": 3
   },
   "file_extension": ".py",
   "mimetype": "text/x-python",
   "name": "python",
   "nbconvert_exporter": "python",
   "pygments_lexer": "ipython3",
   "version": "3.8.3"
  }
 },
 "nbformat": 4,
 "nbformat_minor": 4
}
