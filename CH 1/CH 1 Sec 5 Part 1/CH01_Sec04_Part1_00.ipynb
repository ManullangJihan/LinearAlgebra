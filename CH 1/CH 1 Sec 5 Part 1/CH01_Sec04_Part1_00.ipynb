{
 "cells": [
  {
   "cell_type": "markdown",
   "metadata": {},
   "source": [
    "# Chapter 1, Section 4 Part 1\n",
    "\n",
    "Tujuan dari pembelajaran kali ini adalah untuk mempelajari bagaimana cara memasukkan persamaan sistem ke dalam bentuk matriks\n",
    "\n",
    "## Mengubah sistem menjadi bentuk matriks\n",
    "\n",
    "### Contoh #1:\n",
    "\n",
    "Diberikan sebuah persamaan sistem dibawah ini:\n",
    "$$ 2x + 3y = 6$$\n",
    "$$ 3x - 4y = 2$$\n",
    "\n",
    "Dan dibawah ini merupakan bentuk persamaan matriksnya:\n",
    "$$\\begin{pmatrix} 2 & 3\\\\3 & -4\\end{pmatrix} \\begin{pmatrix} x\\\\y\\end{pmatrix} = \\begin{pmatrix} 6\\\\-2\\end{pmatrix}$$\n",
    "\n",
    "Sekarang sistem kita sudah berada dalam bentuk persamaan matriks :\n",
    "$$ A\\vec{x} = \\vec{b} $$\n",
    "\n",
    "Dari persamaan ini kita dapat mencari nilai x dengan mencari nilai inverse A lalu mengkalikanya dengan B sehingga\n",
    "\n",
    "$$ \\vec{x} = A^{-1}\\vec{b} $$\n",
    "\n",
    "Mari kita cari nilai $\\vec{x}$ melalui program python\n"
   ]
  },
  {
   "cell_type": "code",
   "execution_count": 2,
   "metadata": {},
   "outputs": [
    {
     "name": "stdout",
     "output_type": "stream",
     "text": [
      "[[1.05882353]\n",
      " [1.29411765]]\n"
     ]
    }
   ],
   "source": [
    "from numpy import array\n",
    "from numpy.linalg import inv\n",
    "A = array([[2.,3],[3,-4]])\n",
    "B = array([[6.],[-2]])\n",
    "x = inv(A) @ B\n",
    "print(x)"
   ]
  },
  {
   "cell_type": "markdown",
   "metadata": {},
   "source": [
    "Dari jawaban diatas dapat kita simpulkan nilai $x$ adalah 1.05882353 dan nilai $y$ adalah 1.29411765 untuk memenuhi sistem :\n",
    "\n",
    "$$ 2x + 3y = 6$$\n",
    "$$ 3x - 4y = 2$$\n"
   ]
  },
  {
   "cell_type": "code",
   "execution_count": null,
   "metadata": {},
   "outputs": [],
   "source": []
  }
 ],
 "metadata": {
  "kernelspec": {
   "display_name": "Python 3",
   "language": "python",
   "name": "python3"
  },
  "language_info": {
   "codemirror_mode": {
    "name": "ipython",
    "version": 3
   },
   "file_extension": ".py",
   "mimetype": "text/x-python",
   "name": "python",
   "nbconvert_exporter": "python",
   "pygments_lexer": "ipython3",
   "version": "3.8.3"
  }
 },
 "nbformat": 4,
 "nbformat_minor": 4
}
