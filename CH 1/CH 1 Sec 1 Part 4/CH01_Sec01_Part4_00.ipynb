{
 "cells": [
  {
   "cell_type": "markdown",
   "metadata": {},
   "source": [
    "# Chapter 1, Section 1 Part 4\n",
    "\n",
    "\n",
    "Tujuan dari pelajaran kali ini adalah untuk mengenalkan bentuk eselon baris"
   ]
  },
  {
   "cell_type": "code",
   "execution_count": 15,
   "metadata": {},
   "outputs": [
    {
     "name": "stdout",
     "output_type": "stream",
     "text": [
      "Hasil nilai sistem x, y, dan z dari cara manual \n",
      "[[ 1.  0.  0.  2.]\n",
      " [ 0.  1.  0. -3.]\n",
      " [ 0.  0.  1.  4.]]\n"
     ]
    }
   ],
   "source": [
    "from sympy import Matrix\n",
    "import numpy as np\n",
    "\n",
    "A = np.array([[1,1,0,-1],\n",
    "              [0,1,-1,-7],\n",
    "              [1,-3,2,19]])\n",
    "r1 = A[0,:]\n",
    "r2 = A[1,:]\n",
    "r3 = A[2,:]\n",
    "A = np.array([r1,\n",
    "              r2,\n",
    "              r3-r1])\n",
    "r1 = A[0,:]\n",
    "r2 = A[1,:]\n",
    "r3 = A[2,:]\n",
    "A = np.array([r1,\n",
    "              r2,\n",
    "              r3+4*r2])\n",
    "r1 = A[0,:]\n",
    "r2 = A[1,:]\n",
    "r3 = A[2,:]\n",
    "A = np.array([r1,\n",
    "              r2,\n",
    "              r3*-1/2])\n",
    "r1 = A[0,:]\n",
    "r2 = A[1,:]\n",
    "r3 = A[2,:]\n",
    "A = np.array([r1,\n",
    "              r2+r3,\n",
    "              r3])\n",
    "\n",
    "r1 = A[0,:]\n",
    "r2 = A[1,:]\n",
    "r3 = A[2,:]\n",
    "A = np.array([r1-r2,\n",
    "              r2,\n",
    "              r3])\n",
    "print('Hasil nilai sistem x, y, dan z dari cara manual \\n' + str(A))"
   ]
  },
  {
   "cell_type": "code",
   "execution_count": 14,
   "metadata": {},
   "outputs": [
    {
     "name": "stdout",
     "output_type": "stream",
     "text": [
      "Nilai Keluaran dari persamaan sistem linear yang telah kita selesaikan \n",
      "[-1 -7 19]\n"
     ]
    }
   ],
   "source": [
    "x = 2\n",
    "y = -3\n",
    "z = 4\n",
    "output = np.array([x+y, y-z, x-3*y+2*z])\n",
    "print('Nilai Keluaran dari persamaan sistem linear yang telah kita selesaikan \\n' + str(output))"
   ]
  },
  {
   "cell_type": "code",
   "execution_count": 13,
   "metadata": {},
   "outputs": [
    {
     "name": "stdout",
     "output_type": "stream",
     "text": [
      "Matrix([[1, 0, 0, 2], [0, 1, 0, -3], [0, 0, 1, 4]])\n"
     ]
    }
   ],
   "source": [
    "# Fast Method\n",
    "A = Matrix([[1,1,0,-1],\n",
    "              [0,1,-1,-7],\n",
    "              [1,-3,2,19]])\n",
    "system, piv = A.rref()\n",
    "print(str(system))"
   ]
  },
  {
   "cell_type": "code",
   "execution_count": null,
   "metadata": {},
   "outputs": [],
   "source": []
  }
 ],
 "metadata": {
  "kernelspec": {
   "display_name": "Python 3",
   "language": "python",
   "name": "python3"
  },
  "language_info": {
   "codemirror_mode": {
    "name": "ipython",
    "version": 3
   },
   "file_extension": ".py",
   "mimetype": "text/x-python",
   "name": "python",
   "nbconvert_exporter": "python",
   "pygments_lexer": "ipython3",
   "version": "3.8.3"
  }
 },
 "nbformat": 4,
 "nbformat_minor": 4
}
