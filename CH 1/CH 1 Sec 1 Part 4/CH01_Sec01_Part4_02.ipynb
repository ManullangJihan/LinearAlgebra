{
 "cells": [
  {
   "cell_type": "markdown",
   "metadata": {},
   "source": [
    "# Contoh 3\n",
    "\n",
    "Carilah nilai untuk x1, x2, x3, dan x4 dari persamaan sistem linear dibawah ini :\n",
    "\n",
    "    x1 + x2 + x4 = 3\n",
    "    x1 + 2*x2 + x3 = 1\n",
    "    x2 + x3 - x4 = -2\n",
    "\n",
    "pada contoh ini kita menggunakan nilai x1, x2, dan seterusnya, hal ini disebabkan jika kita memiliki variabel lebih dari 3"
   ]
  },
  {
   "cell_type": "code",
   "execution_count": 3,
   "metadata": {},
   "outputs": [
    {
     "name": "stdout",
     "output_type": "stream",
     "text": [
      "Row Echelon for our Linear system Equation \n",
      "[[ 1.  0. -1.  2.  5.]\n",
      " [ 0.  1.  1. -1. -2.]\n",
      " [ 0.  0.  0.  0.  0.]]\n"
     ]
    }
   ],
   "source": [
    "import numpy as np\n",
    "\n",
    "A = np.array([[1.,1,0,1,3], [1, 2, 1, 0, 1], [0, 1, 1, -1, -2]]);\n",
    "r1 = A[0,:]\n",
    "r2 = A[1,:]\n",
    "r3 = A[2,:]\n",
    "\n",
    "A = np.array([r1,r2-r1,r3])\n",
    "\n",
    "r1 = A[0,:]\n",
    "r2 = A[1,:]\n",
    "r3 = A[2,:]\n",
    "A = np.array([r1,r2,r3-r2])\n",
    "\n",
    "r1 = A[0,:]\n",
    "r2 = A[1,:]\n",
    "r3 = A[2,:]\n",
    "A = np.array([r1-r2,r2,r3])\n",
    "print('Row Echelon for our Linear system Equation \\n' + str(A))\n"
   ]
  },
  {
   "cell_type": "code",
   "execution_count": 4,
   "metadata": {},
   "outputs": [
    {
     "name": "stdout",
     "output_type": "stream",
     "text": [
      "first check output = [ 3  1 -2]\n"
     ]
    }
   ],
   "source": [
    "x1 = 6\n",
    "x2 = -2\n",
    "x3 = -1\n",
    "x4 = -1;\n",
    "first_check = np.array([x1+x2+x4, x1+2*x2+x3, x2+x3-x4])\n",
    "print('first check output = ' + str(first_check))"
   ]
  },
  {
   "cell_type": "code",
   "execution_count": 5,
   "metadata": {},
   "outputs": [
    {
     "name": "stdout",
     "output_type": "stream",
     "text": [
      "second check output = [ 3  1 -2]\n"
     ]
    }
   ],
   "source": [
    "x1 = 5\n",
    "x2 = -2\n",
    "x3 = 0\n",
    "x4 = 0\n",
    "second_check = np.array([x1+x2+x4, x1+2*x2+x3, x2+x3-x4])\n",
    "print('second check output = ' + str(second_check))"
   ]
  },
  {
   "cell_type": "code",
   "execution_count": 6,
   "metadata": {},
   "outputs": [
    {
     "name": "stdout",
     "output_type": "stream",
     "text": [
      "third check output =[ 3  1 -2]\n"
     ]
    }
   ],
   "source": [
    "x1 = 4\n",
    "x2 = -2\n",
    "x3 = 1\n",
    "x4 = 1\n",
    "third_check = np.array([x1+x2+x4, x1+2*x2+x3, x2+x3-x4])\n",
    "print('third check output =' + str(third_check))"
   ]
  },
  {
   "cell_type": "code",
   "execution_count": null,
   "metadata": {},
   "outputs": [],
   "source": []
  }
 ],
 "metadata": {
  "kernelspec": {
   "display_name": "Python 3",
   "language": "python",
   "name": "python3"
  },
  "language_info": {
   "codemirror_mode": {
    "name": "ipython",
    "version": 3
   },
   "file_extension": ".py",
   "mimetype": "text/x-python",
   "name": "python",
   "nbconvert_exporter": "python",
   "pygments_lexer": "ipython3",
   "version": "3.8.3"
  }
 },
 "nbformat": 4,
 "nbformat_minor": 4
}
