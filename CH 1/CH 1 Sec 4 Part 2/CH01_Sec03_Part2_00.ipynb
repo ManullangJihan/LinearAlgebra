{
 "cells": [
  {
   "cell_type": "markdown",
   "metadata": {},
   "source": [
    "# Chapter 1 Section 3 Part 2\n",
    "\n",
    "Tujuan dari pembelajaran kali ini adalah untuk mengenalkan beberapa properti dari inverse. \n",
    "Mari kita mulai langsung dengan contoh\n",
    "\n",
    "### Contoh #1:\n",
    "\n",
    "Diberikan matriks\n",
    "$ A = \\begin{pmatrix} 1 & 2\\\\-3 & 1\\\\ \\end{pmatrix} dan B = \\begin{pmatrix} 2 & 2\\\\-1 & 3\\end{pmatrix} $\n",
    "\n",
    "\n",
    "\n",
    "dari matriks diatas buktikan bahwa $(AB)^{-1} = B^{-1}A^{-1}$"
   ]
  },
  {
   "cell_type": "code",
   "execution_count": 7,
   "metadata": {},
   "outputs": [
    {
     "name": "stdout",
     "output_type": "stream",
     "text": [
      "[[-0.05357143 -0.14285714]\n",
      " [ 0.125       0.        ]]\n"
     ]
    }
   ],
   "source": [
    "from numpy import array,dot\n",
    "from numpy.linalg import inv\n",
    "\n",
    "# Properti 1\n",
    "A = array([[1.,2],[-3,1]])\n",
    "B = array([[2.,2],[-1,3]])\n",
    "C = dot(A,B)\n",
    "inv_c_1 = inv(C)\n",
    "print(inv_c)"
   ]
  },
  {
   "cell_type": "code",
   "execution_count": 8,
   "metadata": {},
   "outputs": [
    {
     "name": "stdout",
     "output_type": "stream",
     "text": [
      "[[-0.05357143 -0.14285714]\n",
      " [ 0.125       0.        ]]\n"
     ]
    }
   ],
   "source": [
    "# Properti 1\n",
    "B_inv = inv(B)\n",
    "A_inv = inv(A)\n",
    "inv_c_2 = dot(B_inv,A_inv)\n",
    "print(inv_c_2)"
   ]
  },
  {
   "cell_type": "markdown",
   "metadata": {},
   "source": [
    "Dari hasil diatas dapat kita buktikan bahwa $(AB)^{-1} = B^{-1}A^{-1}$"
   ]
  },
  {
   "cell_type": "code",
   "execution_count": 9,
   "metadata": {},
   "outputs": [
    {
     "name": "stdout",
     "output_type": "stream",
     "text": [
      "[[ True  True]\n",
      " [ True  True]]\n"
     ]
    }
   ],
   "source": [
    "print(inv_c_1 == inv_c_2)"
   ]
  },
  {
   "cell_type": "code",
   "execution_count": null,
   "metadata": {},
   "outputs": [],
   "source": []
  }
 ],
 "metadata": {
  "kernelspec": {
   "display_name": "Python 3",
   "language": "python",
   "name": "python3"
  },
  "language_info": {
   "codemirror_mode": {
    "name": "ipython",
    "version": 3
   },
   "file_extension": ".py",
   "mimetype": "text/x-python",
   "name": "python",
   "nbconvert_exporter": "python",
   "pygments_lexer": "ipython3",
   "version": "3.8.3"
  }
 },
 "nbformat": 4,
 "nbformat_minor": 4
}
