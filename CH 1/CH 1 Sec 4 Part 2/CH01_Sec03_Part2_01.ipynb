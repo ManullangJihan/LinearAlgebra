{
 "cells": [
  {
   "cell_type": "markdown",
   "metadata": {},
   "source": [
    "## Contoh #2 :\n",
    "\n",
    "Diberikan matriks \n",
    "$A = \\begin{pmatrix} 1 & 2 & 0\\\\ 3 & 0 & 1\\\\-1 & 4 & 2\\end{pmatrix}, B = \\begin{pmatrix} 2 & 1 & 1\\\\3 & -2 & 1\\\\1 & 1 & 1\\end{pmatrix}$\n",
    "\n",
    "\n",
    "\n",
    "Buktikan bahwa $(AB)^{-1} = B^{-1}A^{-1}$ menggunakan python"
   ]
  },
  {
   "cell_type": "code",
   "execution_count": 1,
   "metadata": {},
   "outputs": [
    {
     "name": "stdout",
     "output_type": "stream",
     "text": [
      "[[ 0.88888889 -0.11111111 -0.44444444]\n",
      " [ 0.24074074  0.07407407 -0.2037037 ]\n",
      " [-1.7962963   0.37037037  0.98148148]]\n"
     ]
    }
   ],
   "source": [
    "from numpy import array,dot\n",
    "from numpy.linalg import inv\n",
    "\n",
    "A = array([[1.,2,0],[3,0,1],[-1,4,2]])\n",
    "B = array([[2.,1,1],[3,-2,1],[1,1,1]])\n",
    "C = dot(A,B)\n",
    "D = inv(C)\n",
    "print(D)"
   ]
  },
  {
   "cell_type": "code",
   "execution_count": 4,
   "metadata": {},
   "outputs": [
    {
     "name": "stdout",
     "output_type": "stream",
     "text": [
      "[[ 0.88888889 -0.11111111 -0.44444444]\n",
      " [ 0.24074074  0.07407407 -0.2037037 ]\n",
      " [-1.7962963   0.37037037  0.98148148]]\n"
     ]
    }
   ],
   "source": [
    "inv_B = inv(B)\n",
    "inv_A = inv(A)\n",
    "D2 = dot(inv_B,inv_A)\n",
    "print(D2)"
   ]
  },
  {
   "cell_type": "markdown",
   "metadata": {},
   "source": [
    "Dari hasil diatas dapat kita lihat dan buktikan bahwa $(AB)^{-1} = B^{-1}A^{-1}$"
   ]
  },
  {
   "cell_type": "code",
   "execution_count": null,
   "metadata": {},
   "outputs": [],
   "source": []
  }
 ],
 "metadata": {
  "kernelspec": {
   "display_name": "Python 3",
   "language": "python",
   "name": "python3"
  },
  "language_info": {
   "codemirror_mode": {
    "name": "ipython",
    "version": 3
   },
   "file_extension": ".py",
   "mimetype": "text/x-python",
   "name": "python",
   "nbconvert_exporter": "python",
   "pygments_lexer": "ipython3",
   "version": "3.8.3"
  }
 },
 "nbformat": 4,
 "nbformat_minor": 4
}
