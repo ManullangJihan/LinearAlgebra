{
 "cells": [
  {
   "cell_type": "markdown",
   "metadata": {},
   "source": [
    "# Contoh Kedua\n",
    "\n",
    "\n",
    "carilah nilai produk dari matriks A dan x\n",
    "\n",
    "$$ A = \\begin{pmatrix} 1 & 2 & 3\\\\ 1 & 1 & 0\\\\ -1 & 2 & -3 \\end{pmatrix}$$ dan\n",
    "$$ \\vec{x} = \\begin{pmatrix} 1\\\\2\\\\-2\\end{pmatrix}$$"
   ]
  },
  {
   "cell_type": "code",
   "execution_count": 2,
   "metadata": {},
   "outputs": [
    {
     "name": "stdout",
     "output_type": "stream",
     "text": [
      "[[14]\n",
      " [ 3]\n",
      " [-6]]\n"
     ]
    }
   ],
   "source": [
    "import numpy as np\n",
    "\n",
    "A = np.array([[1,2,3],[1,1,0],[-1,2,-3]])\n",
    "x = np.array([[1],[2],[3]])\n",
    "print(A@x)"
   ]
  },
  {
   "cell_type": "code",
   "execution_count": 3,
   "metadata": {},
   "outputs": [
    {
     "name": "stdout",
     "output_type": "stream",
     "text": [
      "[[14]\n",
      " [ 3]\n",
      " [-6]]\n"
     ]
    }
   ],
   "source": [
    "# Cara Kedua untuk mencari dot produk\n",
    "print(np.dot(A,x))"
   ]
  },
  {
   "cell_type": "code",
   "execution_count": null,
   "metadata": {},
   "outputs": [],
   "source": []
  }
 ],
 "metadata": {
  "kernelspec": {
   "display_name": "Python 3",
   "language": "python",
   "name": "python3"
  },
  "language_info": {
   "codemirror_mode": {
    "name": "ipython",
    "version": 3
   },
   "file_extension": ".py",
   "mimetype": "text/x-python",
   "name": "python",
   "nbconvert_exporter": "python",
   "pygments_lexer": "ipython3",
   "version": "3.8.3"
  }
 },
 "nbformat": 4,
 "nbformat_minor": 4
}
