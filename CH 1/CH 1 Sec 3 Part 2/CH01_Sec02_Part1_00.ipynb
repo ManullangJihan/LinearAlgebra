{
 "cells": [
  {
   "cell_type": "markdown",
   "metadata": {},
   "source": [
    "# Chapter 1 Section 2 Part 1\n",
    "\n",
    "\n",
    "## Contoh #1\n",
    "\n",
    "Carilah nilai dot produk dari\n",
    "\n",
    "$$\\vec{u} = \\begin{pmatrix} 1 \\\\ 2 \\\\ -3 \\end{pmatrix}$$  dan  $$\\vec{v} = \\begin{pmatrix} 4 \\\\ -2 \\\\ 5 \\end{pmatrix}$$ "
   ]
  },
  {
   "cell_type": "code",
   "execution_count": 1,
   "metadata": {},
   "outputs": [
    {
     "name": "stdout",
     "output_type": "stream",
     "text": [
      "[[-15]]\n"
     ]
    }
   ],
   "source": [
    "import numpy as np\n",
    "\n",
    "A = np.array([[1],[2],[-3]]).T\n",
    "B = np.array([[4],[-2],[5]])\n",
    "dot_result = np.dot(A,B)\n",
    "print(dot_result)"
   ]
  },
  {
   "cell_type": "code",
   "execution_count": null,
   "metadata": {},
   "outputs": [],
   "source": []
  }
 ],
 "metadata": {
  "kernelspec": {
   "display_name": "Python 3",
   "language": "python",
   "name": "python3"
  },
  "language_info": {
   "codemirror_mode": {
    "name": "ipython",
    "version": 3
   },
   "file_extension": ".py",
   "mimetype": "text/x-python",
   "name": "python",
   "nbconvert_exporter": "python",
   "pygments_lexer": "ipython3",
   "version": "3.8.3"
  }
 },
 "nbformat": 4,
 "nbformat_minor": 4
}
