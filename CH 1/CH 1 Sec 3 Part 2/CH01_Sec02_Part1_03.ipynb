{
 "cells": [
  {
   "cell_type": "markdown",
   "metadata": {},
   "source": [
    "# Contoh 4 :\n",
    "\n",
    "Diberikan sebuah matrix :\n",
    "$$A = \\begin{pmatrix} 1 & 2 & 3\\\\ -1 & 1 & 2 \\end{pmatrix}, B = \\begin{pmatrix} 3 & 0\\\\1 & 1\\\\0 & 2 \\end{pmatrix}, C = \\begin{pmatrix} 1 & 0 & 1 & 2\\\\ 1 & 3 & 4 & 1 \\end{pmatrix} $$\n",
    "\n",
    "buktikanlah bahawa $$(AB)C = A(BC)$$"
   ]
  },
  {
   "cell_type": "code",
   "execution_count": 4,
   "metadata": {},
   "outputs": [
    {
     "name": "stdout",
     "output_type": "stream",
     "text": [
      "[[13 24 37 18]\n",
      " [ 3 15 18  1]]\n"
     ]
    }
   ],
   "source": [
    "import numpy as np\n",
    "\n",
    "A = np.array([[1,2,3],[-1,1,2]])\n",
    "B = np.array([[3,0],[1,1],[0,2]])\n",
    "C = np.array([[1,0,1,2],[1,3,4,1]])\n",
    "\n",
    "# First Method\n",
    "dist_1 = np.dot(np.dot(A, B), C)\n",
    "print(dist_1)"
   ]
  },
  {
   "cell_type": "code",
   "execution_count": 5,
   "metadata": {},
   "outputs": [
    {
     "name": "stdout",
     "output_type": "stream",
     "text": [
      "[[ True  True  True  True]\n",
      " [ True  True  True  True]]\n"
     ]
    }
   ],
   "source": [
    "# Cek apakah (AB)C sama dengan A(BC)\n",
    "dist_2 = np.dot(A, np.dot(B, C))\n",
    "print(dist_1 == dist_2)"
   ]
  },
  {
   "cell_type": "code",
   "execution_count": 6,
   "metadata": {},
   "outputs": [
    {
     "name": "stdout",
     "output_type": "stream",
     "text": [
      "[[13 24 37 18]\n",
      " [ 3 15 18  1]]\n"
     ]
    }
   ],
   "source": [
    "# Second Method\n",
    "dist_1 = (A @ B) @ C\n",
    "print(dist_1)"
   ]
  },
  {
   "cell_type": "code",
   "execution_count": 7,
   "metadata": {},
   "outputs": [
    {
     "name": "stdout",
     "output_type": "stream",
     "text": [
      "[[ True  True  True  True]\n",
      " [ True  True  True  True]]\n"
     ]
    }
   ],
   "source": [
    "# Cek apakah (AB)C sama dengan A(BC)\n",
    "dist_2 = A @ (B @ C)\n",
    "print(dist_1 == dist_2)"
   ]
  }
 ],
 "metadata": {
  "kernelspec": {
   "display_name": "Python 3",
   "language": "python",
   "name": "python3"
  },
  "language_info": {
   "codemirror_mode": {
    "name": "ipython",
    "version": 3
   },
   "file_extension": ".py",
   "mimetype": "text/x-python",
   "name": "python",
   "nbconvert_exporter": "python",
   "pygments_lexer": "ipython3",
   "version": "3.8.3"
  }
 },
 "nbformat": 4,
 "nbformat_minor": 4
}
