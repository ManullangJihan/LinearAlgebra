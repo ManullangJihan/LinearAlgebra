{
 "cells": [
  {
   "cell_type": "markdown",
   "metadata": {},
   "source": [
    "# Contoh Ketiga\n",
    "\n",
    "#### Carilah nilai perkalian dot (dot product)  dari matriks dibawah ini\n",
    "\n",
    "$$A = \\begin{pmatrix} 1 & 2 & -2\\\\ -1 & 0 & 3 \\end{pmatrix}$$ dan\n",
    "$$B = \\begin{pmatrix} 1 & 2\\\\1 & -1\\\\ 1 & 2 \\end{pmatrix}$$"
   ]
  },
  {
   "cell_type": "code",
   "execution_count": 1,
   "metadata": {},
   "outputs": [
    {
     "name": "stdout",
     "output_type": "stream",
     "text": [
      "[[ 1 -4]\n",
      " [ 2  4]]\n"
     ]
    }
   ],
   "source": [
    "import numpy as np\n",
    "\n",
    "A = np.array([[1,2,-2],[-1,0,3]])\n",
    "B = np.array([[1,2],[1,-1],[1,2]])\n",
    "dot_product = A@B\n",
    "print(dot_product)"
   ]
  },
  {
   "cell_type": "code",
   "execution_count": 2,
   "metadata": {},
   "outputs": [
    {
     "name": "stdout",
     "output_type": "stream",
     "text": [
      "[[ 1 -4]\n",
      " [ 2  4]]\n"
     ]
    }
   ],
   "source": [
    "# Cara kedua\n",
    "dot_product = np.dot(A,B)\n",
    "print(dot_product)"
   ]
  }
 ],
 "metadata": {
  "kernelspec": {
   "display_name": "Python 3",
   "language": "python",
   "name": "python3"
  },
  "language_info": {
   "codemirror_mode": {
    "name": "ipython",
    "version": 3
   },
   "file_extension": ".py",
   "mimetype": "text/x-python",
   "name": "python",
   "nbconvert_exporter": "python",
   "pygments_lexer": "ipython3",
   "version": "3.8.3"
  }
 },
 "nbformat": 4,
 "nbformat_minor": 4
}
