{
 "cells": [
  {
   "cell_type": "markdown",
   "metadata": {},
   "source": [
    "# Contoh keenam\n",
    "\n",
    "Buktikan bahwa matriks dibawah ini tidak commute satu sama lain, lalu carilah matriks C yang commute satu sama lain:\n",
    "$$ A = \\begin{pmatrix} 1 & 1\\\\ -2 & 3\\end{pmatrix}, B = \\begin{pmatrix} 1 & 1\\\\ 2 & 1\\end{pmatrix}$$"
   ]
  },
  {
   "cell_type": "code",
   "execution_count": 16,
   "metadata": {},
   "outputs": [
    {
     "name": "stdout",
     "output_type": "stream",
     "text": [
      "[[False False]\n",
      " [False False]]\n"
     ]
    }
   ],
   "source": [
    "# Mengecek komutativitas A & B dengan Python\n",
    "import numpy as np\n",
    "\n",
    "A = np.array([[1,1],\n",
    "             [-2,3]])\n",
    "B = np.array([[1,1],\n",
    "             [2,1]])\n",
    "AB = A @ B\n",
    "BA = B @ A\n",
    "print(AB==BA)"
   ]
  },
  {
   "cell_type": "markdown",
   "metadata": {},
   "source": [
    "Dari jawaban ini kita mengetahui bahwa A dan B tidak tidak commute satu sama lain\n",
    "Sekarang mari kita cari matriks c yang commute dengan A\n",
    "\n",
    "$$ C = \\begin{pmatrix} a & b\\\\ c & d\\end{pmatrix} $$\n",
    "\n",
    "mari kita cari nilai a, b, c dan d sehingga\n",
    "\n",
    "$$ AC = CA $$\n",
    "$$\\begin{pmatrix} 1 & 1\\\\-2 & 3\\end{pmatrix} \\begin{pmatrix} a & b\\\\c & d\\end{pmatrix} = \\begin{pmatrix} a & b\\\\c & d\\end{pmatrix} \\begin{pmatrix} 1 & 1\\\\-2 & 3\\end{pmatrix}$$\n",
    "\n",
    "augmented matrix untuk sistem ini adalah :\n",
    "$$\\begin{pmatrix} 0 & 2 & 1 & 0 & 0 \\\\ 1 & 2 & 0 & -1 & 0\\\\ 2 & 0 & -2 & -2 & 0 \\\\ 0 & 2 & 1 & 0 & 0\\end{pmatrix}$$"
   ]
  },
  {
   "cell_type": "code",
   "execution_count": 2,
   "metadata": {},
   "outputs": [
    {
     "name": "stdout",
     "output_type": "stream",
     "text": [
      "Matrix([[1, 0, -1, -1, 0], [0, 1, 1/2, 0, 0], [0, 0, 0, 0, 0], [0, 0, 0, 0, 0]])\n"
     ]
    }
   ],
   "source": [
    "from sympy import Matrix, symbols\n",
    "\n",
    "# First Method\n",
    "A = Matrix([[0,2,1,0,0],[1,2,0,-1,0],[2,0,-2,-2,0],[0,2,1,0,0]])\n",
    "system, piv = A.rref()\n",
    "print(system)"
   ]
  },
  {
   "cell_type": "code",
   "execution_count": 11,
   "metadata": {},
   "outputs": [
    {
     "name": "stdout",
     "output_type": "stream",
     "text": [
      "first multiplication AC \n",
      " [[ 3.   0.5]\n",
      " [-1.   4. ]]\n"
     ]
    }
   ],
   "source": [
    "A = np.array([[1,1],[-2,3]])\n",
    "C = np.array([[2,-0.5],[1,1]])\n",
    "first_multiplication = A @ C\n",
    "print('first multiplication AC \\n ' + str(first_multiplication))"
   ]
  },
  {
   "cell_type": "code",
   "execution_count": 13,
   "metadata": {},
   "outputs": [
    {
     "name": "stdout",
     "output_type": "stream",
     "text": [
      "second multiplication CA \n",
      "[[ 3.   0.5]\n",
      " [-1.   4. ]]\n"
     ]
    }
   ],
   "source": [
    "second_multiplication = C @ A\n",
    "print('second multiplication CA \\n' + str(second_multiplication))"
   ]
  },
  {
   "cell_type": "code",
   "execution_count": 14,
   "metadata": {},
   "outputs": [
    {
     "name": "stdout",
     "output_type": "stream",
     "text": [
      "[[ True  True]\n",
      " [ True  True]]\n"
     ]
    }
   ],
   "source": [
    "## Cek apakah AC = CA\n",
    "print(first_multiplication == second_multiplication)"
   ]
  },
  {
   "cell_type": "code",
   "execution_count": 15,
   "metadata": {},
   "outputs": [
    {
     "name": "stdout",
     "output_type": "stream",
     "text": [
      "[[False False]\n",
      " [False False]]\n"
     ]
    }
   ],
   "source": [
    "# Second Method\n",
    "a,b,c,d = symbols('a, b, c, d')\n",
    "A = np.array([[1,1],[-2,3]])\n",
    "D = np.array([[a,b],[c,d]])\n",
    "check = A @ D == D @ A\n",
    "print(check)"
   ]
  },
  {
   "cell_type": "code",
   "execution_count": null,
   "metadata": {},
   "outputs": [],
   "source": []
  }
 ],
 "metadata": {
  "kernelspec": {
   "display_name": "Python 3",
   "language": "python",
   "name": "python3"
  },
  "language_info": {
   "codemirror_mode": {
    "name": "ipython",
    "version": 3
   },
   "file_extension": ".py",
   "mimetype": "text/x-python",
   "name": "python",
   "nbconvert_exporter": "python",
   "pygments_lexer": "ipython3",
   "version": "3.8.3"
  }
 },
 "nbformat": 4,
 "nbformat_minor": 4
}
