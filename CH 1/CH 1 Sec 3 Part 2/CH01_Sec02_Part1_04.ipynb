{
 "cells": [
  {
   "cell_type": "markdown",
   "metadata": {},
   "source": [
    "# Contoh kelima \n",
    "\n",
    "Diberikan matriks :\n",
    "$$A = \\begin{pmatrix} 2 & 3\\\\ 1 & 2\\end{pmatrix}, B = \\begin{pmatrix} 1 & 4\\\\ 1 & 0\\end{pmatrix}, C = \\begin{pmatrix} 2 & 1\\\\ 1 & 3\\end{pmatrix}$$\n",
    "\n",
    "Buktikanlah bahwa $$A(B+C) = (AB)+(AC)$$"
   ]
  },
  {
   "cell_type": "code",
   "execution_count": 4,
   "metadata": {},
   "outputs": [
    {
     "name": "stdout",
     "output_type": "stream",
     "text": [
      "[[12 19]\n",
      " [ 7 11]]\n"
     ]
    }
   ],
   "source": [
    "import numpy as np\n",
    "\n",
    "A = np.array([[2,3],[1,2]])\n",
    "B = np.array([[1,4],[1,0]])\n",
    "C = np.array([[2,1],[1,3]])\n",
    "\n",
    "# First Method\n",
    "dist_1 = np.dot(A, B+C)\n",
    "print(dist_1)"
   ]
  },
  {
   "cell_type": "code",
   "execution_count": 5,
   "metadata": {},
   "outputs": [
    {
     "name": "stdout",
     "output_type": "stream",
     "text": [
      "[[ True  True]\n",
      " [ True  True]]\n"
     ]
    }
   ],
   "source": [
    "dist_2 = np.dot(A,B) + np.dot(A,C)\n",
    "print(dist_1 == dist_2)"
   ]
  },
  {
   "cell_type": "code",
   "execution_count": 6,
   "metadata": {},
   "outputs": [
    {
     "name": "stdout",
     "output_type": "stream",
     "text": [
      "[[12 19]\n",
      " [ 7 11]]\n"
     ]
    }
   ],
   "source": [
    "# Second Method\n",
    "dist_1 = A @ (B+C)\n",
    "print(dist_1)"
   ]
  },
  {
   "cell_type": "code",
   "execution_count": 7,
   "metadata": {},
   "outputs": [
    {
     "name": "stdout",
     "output_type": "stream",
     "text": [
      "[[ True  True]\n",
      " [ True  True]]\n"
     ]
    }
   ],
   "source": [
    "dist_2 = A @ B + A @ C\n",
    "print(dist_1 == dist_2)"
   ]
  },
  {
   "cell_type": "code",
   "execution_count": null,
   "metadata": {},
   "outputs": [],
   "source": []
  }
 ],
 "metadata": {
  "kernelspec": {
   "display_name": "Python 3",
   "language": "python",
   "name": "python3"
  },
  "language_info": {
   "codemirror_mode": {
    "name": "ipython",
    "version": 3
   },
   "file_extension": ".py",
   "mimetype": "text/x-python",
   "name": "python",
   "nbconvert_exporter": "python",
   "pygments_lexer": "ipython3",
   "version": "3.8.3"
  }
 },
 "nbformat": 4,
 "nbformat_minor": 4
}
