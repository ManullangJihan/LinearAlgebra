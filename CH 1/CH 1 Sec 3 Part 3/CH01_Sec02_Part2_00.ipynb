{
 "cells": [
  {
   "cell_type": "markdown",
   "metadata": {},
   "source": [
    "# Chapter 1 Sec 2 Part 2\n",
    "\n",
    "Tujuan pembelajaran pada bagian ini adalah untuk mengenalkan apa yang disebut dengan 'transpose of a matrix'. Definisi sederhana dari transpose of a matrix adalah baris pada matrix A menjadi kolom pada $A^{T}$. Alternativ lain adalah bahwa kolom pada matriks A menjadi baris pada $A^{T}$\n",
    "\n",
    "\n",
    "### Contoh 1:\n",
    "Diberikan matriks\n",
    "\n",
    "$$A = \\begin{pmatrix} 1 & 2\\\\ 3 & 4\\end{pmatrix}$$\n",
    "dan $$B = \\begin{pmatrix} 1 & 2 & 3\\\\ 1 & 0 & 1\\end{pmatrix}$$\n",
    "\n",
    "Buktikan bahwa $$(AB)^{T} = B^{T}A^{T}$$"
   ]
  },
  {
   "cell_type": "code",
   "execution_count": 5,
   "metadata": {},
   "outputs": [
    {
     "name": "stdout",
     "output_type": "stream",
     "text": [
      "[[ 3  7]\n",
      " [ 2  6]\n",
      " [ 5 13]]\n"
     ]
    }
   ],
   "source": [
    "## Pembuktian pada program python\n",
    "\n",
    "import numpy as np\n",
    "\n",
    "A = np.array([[1,2],[3,4]])\n",
    "B = np.array([[1,2,3],[1,0,1]])\n",
    "C = (A @ B).T\n",
    "print(C)"
   ]
  },
  {
   "cell_type": "markdown",
   "metadata": {},
   "source": [
    "C merupakan perkalian dot A dan B lalu hasil perkalian tersebut dilakukan operasi transpose.\n",
    "\n",
    "Berikutnya kita akan melakukan operasi $$B^{T}A^{T}$$"
   ]
  },
  {
   "cell_type": "code",
   "execution_count": 6,
   "metadata": {},
   "outputs": [
    {
     "name": "stdout",
     "output_type": "stream",
     "text": [
      "[[ 3  7]\n",
      " [ 2  6]\n",
      " [ 5 13]]\n"
     ]
    }
   ],
   "source": [
    "D = B.T @ A.T\n",
    "print(D)"
   ]
  },
  {
   "cell_type": "markdown",
   "metadata": {},
   "source": [
    "Dari hasil ini dapat kita ketahui bahwa $$(AB)^{T} = B^{T}A^{T}$$"
   ]
  },
  {
   "cell_type": "code",
   "execution_count": 7,
   "metadata": {},
   "outputs": [
    {
     "name": "stdout",
     "output_type": "stream",
     "text": [
      "[[ True  True]\n",
      " [ True  True]\n",
      " [ True  True]]\n"
     ]
    }
   ],
   "source": [
    "# Pembuktian cepat jika dimensi matriks terlalu besar\n",
    "print(C==D)"
   ]
  }
 ],
 "metadata": {
  "kernelspec": {
   "display_name": "Python 3",
   "language": "python",
   "name": "python3"
  },
  "language_info": {
   "codemirror_mode": {
    "name": "ipython",
    "version": 3
   },
   "file_extension": ".py",
   "mimetype": "text/x-python",
   "name": "python",
   "nbconvert_exporter": "python",
   "pygments_lexer": "ipython3",
   "version": "3.8.3"
  }
 },
 "nbformat": 4,
 "nbformat_minor": 4
}
