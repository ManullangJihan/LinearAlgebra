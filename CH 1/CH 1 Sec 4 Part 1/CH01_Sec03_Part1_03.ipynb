{
 "cells": [
  {
   "cell_type": "markdown",
   "metadata": {},
   "source": [
    "## Contoh #4:\n",
    "\n",
    "Carilah matriks inverse dari :\n",
    "$$ A = \\begin{pmatrix} 1 & 3 & -2\\\\2 & 3 & 0\\\\0 & 1 & -1\\end{pmatrix} $$"
   ]
  },
  {
   "cell_type": "code",
   "execution_count": 3,
   "metadata": {},
   "outputs": [
    {
     "name": "stdout",
     "output_type": "stream",
     "text": [
      "Inverse of A = \n",
      " [[ 3. -1. -6.]\n",
      " [-2.  1.  4.]\n",
      " [-2.  1.  3.]]\n"
     ]
    }
   ],
   "source": [
    "from numpy import array\n",
    "from numpy.linalg import inv\n",
    "\n",
    "# Cara 1\n",
    "A = array([[1,3,-2],[2,3,0],[0,1,-1]])\n",
    "A_inverse = inv(A)\n",
    "print('Inverse of A = \\n ' + str(A_inverse))"
   ]
  },
  {
   "cell_type": "code",
   "execution_count": 4,
   "metadata": {},
   "outputs": [
    {
     "name": "stdout",
     "output_type": "stream",
     "text": [
      "Inverse of A = \n",
      "Matrix([[3, -1, -6], [-2, 1, 4], [-2, 1, 3]])\n"
     ]
    }
   ],
   "source": [
    "# Cara kedua\n",
    "\n",
    "from sympy import Matrix,eye\n",
    "\n",
    "A = Matrix([[1,3,-2],[2,3,0],[0,1,-1]])\n",
    "B = eye(3)\n",
    "M = A.row_join(B)\n",
    "M_matrix, M_pivot = M.rref()\n",
    "A_inv = M_matrix[0:3,3:6]\n",
    "print('Inverse of A = \\n' + str(A_inv))"
   ]
  },
  {
   "cell_type": "code",
   "execution_count": null,
   "metadata": {},
   "outputs": [],
   "source": []
  }
 ],
 "metadata": {
  "kernelspec": {
   "display_name": "Python 3",
   "language": "python",
   "name": "python3"
  },
  "language_info": {
   "codemirror_mode": {
    "name": "ipython",
    "version": 3
   },
   "file_extension": ".py",
   "mimetype": "text/x-python",
   "name": "python",
   "nbconvert_exporter": "python",
   "pygments_lexer": "ipython3",
   "version": "3.8.3"
  }
 },
 "nbformat": 4,
 "nbformat_minor": 4
}
