{
 "cells": [
  {
   "cell_type": "markdown",
   "metadata": {},
   "source": [
    "## Contoh #5:\n",
    "\n",
    "Carilah jika memungkinkan inverse dari matriks $A = \\begin{pmatrix} 1 & 0 & 2\\\\ 1 & 1 & 5\\\\ 0 & 1 & 3\\end{pmatrix}$"
   ]
  },
  {
   "cell_type": "code",
   "execution_count": 5,
   "metadata": {},
   "outputs": [
    {
     "name": "stdout",
     "output_type": "stream",
     "text": [
      "Answer : Matrix([[1, 0, 2, 0, 1, -1], [0, 1, 3, 0, 0, 1], [0, 0, 0, 1, -1, 1]])\n"
     ]
    }
   ],
   "source": [
    "# Cara pertama untuk mencari inverse matriks A yaitu\n",
    "# Dengan cara merubah matriks A ke dalam bentuk eselon baris\n",
    "\n",
    "from sympy import Matrix,eye\n",
    "\n",
    "A = Matrix([[1,0,2],[1,1,5],[0,1,3]])\n",
    "r,c = A.shape\n",
    "B = eye(c)\n",
    "M = A.row_join(B)\n",
    "\n",
    "try:\n",
    "    M_matrix, M_piv = M.rref()\n",
    "except:\n",
    "    M_matrix = float('Inf')\n",
    "\n",
    "print('Answer : ' + str(M_matrix))"
   ]
  },
  {
   "cell_type": "markdown",
   "metadata": {},
   "source": [
    "Dari hasil ini dapat kita ketahui bahwa bentuk eselon barisnya akan menghasilkan determinan nol.\n",
    "Sehingga dapat disimpulkan bahwa matriks A tidak mempunyai inverse."
   ]
  },
  {
   "cell_type": "code",
   "execution_count": 7,
   "metadata": {},
   "outputs": [
    {
     "name": "stdout",
     "output_type": "stream",
     "text": [
      "Inverse of A = inf\n",
      "Determinant of A = 0.0\n"
     ]
    }
   ],
   "source": [
    "# Cara kedua untuk untuk mencari inverse dari matriks A adalah\n",
    "# dengan menggunakan modul numpy\n",
    "\n",
    "from numpy import array\n",
    "from numpy.linalg import inv,det\n",
    "\n",
    "A = array([[1,0,2],[1,1,5],[0,1,3]])\n",
    "\n",
    "try:\n",
    "    A_inv = np.linalg.inv(A)\n",
    "except:\n",
    "    A_inv = float('Inf')\n",
    "\n",
    "print('Inverse of A = ' + str(A_inv))\n",
    "\n",
    "A_det = np.linalg.det(A)\n",
    "print('Determinant of A = ' + str(A_det))"
   ]
  },
  {
   "cell_type": "code",
   "execution_count": null,
   "metadata": {},
   "outputs": [],
   "source": []
  }
 ],
 "metadata": {
  "kernelspec": {
   "display_name": "Python 3",
   "language": "python",
   "name": "python3"
  },
  "language_info": {
   "codemirror_mode": {
    "name": "ipython",
    "version": 3
   },
   "file_extension": ".py",
   "mimetype": "text/x-python",
   "name": "python",
   "nbconvert_exporter": "python",
   "pygments_lexer": "ipython3",
   "version": "3.8.3"
  }
 },
 "nbformat": 4,
 "nbformat_minor": 4
}
