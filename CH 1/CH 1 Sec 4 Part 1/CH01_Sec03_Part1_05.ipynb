{
 "cells": [
  {
   "cell_type": "markdown",
   "metadata": {},
   "source": [
    "## Contoh #6:\n",
    "\n",
    "Tentukanlah nilai $\\lambda$ sehingga matriks\n",
    "\n",
    "$$A = \\begin{pmatrix} 1 & \\lambda & 0\\\\2 & -1 & 3\\\\0 & 2 & 2\\end{pmatrix}$$\n",
    "\n",
    "tidak dapat dibalik (not invertible)"
   ]
  },
  {
   "cell_type": "code",
   "execution_count": 3,
   "metadata": {},
   "outputs": [
    {
     "name": "stdout",
     "output_type": "stream",
     "text": [
      "Matrix([[1, lamda, 0, 1, 0, 0], [0, 1.00000000000000, 1.00000000000000, 0, 0, 0.500000000000000], [0, 0, 2.0*lamda + 4.0, -2, 1, 1.0*lamda + 0.5]])\n"
     ]
    }
   ],
   "source": [
    "from sympy import Symbol,Matrix,eye\n",
    "\n",
    "lamda = Symbol('lamda')\n",
    "A = Matrix([[1,lamda,0],[2,-1,3],[0,2,2]])\n",
    "B = eye(3)\n",
    "M = A.row_join(B)\n",
    "r1 = M[0,:]\n",
    "r2 = M[1,:]\n",
    "r3 = M[2,:]\n",
    "M = Matrix([r1, r2-2*r1, r3])\n",
    "r1 = M[0,:]\n",
    "r2 = M[1,:]\n",
    "r3 = M[2,:]\n",
    "M = Matrix([r1,r3,r2])\n",
    "r1 = M[0,:]\n",
    "r2 = M[1,:]\n",
    "r3 = M[2,:]\n",
    "M = Matrix([r1, 0.5*r2, r3])\n",
    "r1 = M[0,:]\n",
    "r2 = M[1,:]\n",
    "r3 = M[2,:]\n",
    "M = Matrix([r1,r2,r3+((1+2*lamda)*r2)])\n",
    "print(M)\n"
   ]
  },
  {
   "cell_type": "code",
   "execution_count": 5,
   "metadata": {},
   "outputs": [
    {
     "name": "stdout",
     "output_type": "stream",
     "text": [
      "Matrix([[16/(8*lamda + 16), 4*lamda/(8*lamda + 16), -6*lamda/(8*lamda + 16)], [8/(8*lamda + 16), -4/(8*lamda + 16), 6/(8*lamda + 16)], [-4/(4*lamda + 8), 2/(4*lamda + 8), (2*lamda + 1)/(4*lamda + 8)]])\n"
     ]
    }
   ],
   "source": [
    "lamda = lamda.subs({lamda:-2})\n",
    "C = A.inv()\n",
    "print(C)"
   ]
  },
  {
   "cell_type": "markdown",
   "metadata": {},
   "source": [
    "Dari hasil ini dapat diketahui bahwa inverse matriks A akan ada jika $\\lambda \\neq -2$"
   ]
  },
  {
   "cell_type": "code",
   "execution_count": null,
   "metadata": {},
   "outputs": [],
   "source": []
  }
 ],
 "metadata": {
  "kernelspec": {
   "display_name": "Python 3",
   "language": "python",
   "name": "python3"
  },
  "language_info": {
   "codemirror_mode": {
    "name": "ipython",
    "version": 3
   },
   "file_extension": ".py",
   "mimetype": "text/x-python",
   "name": "python",
   "nbconvert_exporter": "python",
   "pygments_lexer": "ipython3",
   "version": "3.8.3"
  }
 },
 "nbformat": 4,
 "nbformat_minor": 4
}
