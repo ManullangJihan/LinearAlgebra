{
 "cells": [
  {
   "cell_type": "markdown",
   "metadata": {},
   "source": [
    "## Contoh 3 \n",
    "\n",
    "Carilah inverse dari matriks A jika memungkinkan\n",
    "\n",
    "$$ A = \\begin{pmatrix} 2 & 6\\\\ 1 & 3\\end{pmatrix}$$"
   ]
  },
  {
   "cell_type": "code",
   "execution_count": 3,
   "metadata": {},
   "outputs": [
    {
     "name": "stdout",
     "output_type": "stream",
     "text": [
      "Inverse of A = inf\n",
      "Determinant of A = 0.0\n"
     ]
    }
   ],
   "source": [
    "from numpy import array\n",
    "from numpy.linalg import inv,det\n",
    "\n",
    "A = array([[2.,6],[1,3]])\n",
    "\n",
    "try:\n",
    "    A_inv = inv(A)\n",
    "except:\n",
    "    A_inv = float('infinity')\n",
    "\n",
    "A_det = det(A)\n",
    "\n",
    "print('Inverse of A = ' + str(A_inv))\n",
    "print('Determinant of A = ' + str(A_det))"
   ]
  },
  {
   "cell_type": "markdown",
   "metadata": {},
   "source": [
    "Dari hasil diatas dapat kita ketahui bahwa matriks $A$ tidak memiliki inverse karena determinannya bernilai nol"
   ]
  },
  {
   "cell_type": "code",
   "execution_count": null,
   "metadata": {},
   "outputs": [],
   "source": []
  }
 ],
 "metadata": {
  "kernelspec": {
   "display_name": "Python 3",
   "language": "python",
   "name": "python3"
  },
  "language_info": {
   "codemirror_mode": {
    "name": "ipython",
    "version": 3
   },
   "file_extension": ".py",
   "mimetype": "text/x-python",
   "name": "python",
   "nbconvert_exporter": "python",
   "pygments_lexer": "ipython3",
   "version": "3.8.3"
  }
 },
 "nbformat": 4,
 "nbformat_minor": 4
}
