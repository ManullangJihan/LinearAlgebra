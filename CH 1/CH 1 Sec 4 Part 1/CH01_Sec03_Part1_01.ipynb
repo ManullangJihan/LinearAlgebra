{
 "cells": [
  {
   "cell_type": "markdown",
   "metadata": {},
   "source": [
    "# Contoh #2\n",
    "\n",
    "Carilah inverse dari matriks \n",
    "$$A = \\begin{pmatrix} 1 & 3 & -2\\\\ 2 & 3 & 0\\\\ 0 & 1 & -1\\end{pmatrix}$$"
   ]
  },
  {
   "cell_type": "code",
   "execution_count": 11,
   "metadata": {},
   "outputs": [
    {
     "name": "stdout",
     "output_type": "stream",
     "text": [
      "Inverse dari matriks A adalah \n",
      "[[ 3. -1. -6.]\n",
      " [-2.  1.  4.]\n",
      " [-2.  1.  3.]]\n"
     ]
    }
   ],
   "source": [
    "# Cara Pertama untuk mencari inverse dari matriks A\n",
    "# Menggunakan module numpy\n",
    "\n",
    "from numpy import array\n",
    "from numpy.linalg import inv\n",
    "\n",
    "A = array([[1,3,-2],\n",
    "             [2,3,0],\n",
    "             [0,1,-1]])\n",
    "A_inv = inv(A)\n",
    "print('Inverse dari matriks A adalah \\n' + str(A_inv))\n"
   ]
  },
  {
   "cell_type": "code",
   "execution_count": 12,
   "metadata": {},
   "outputs": [
    {
     "name": "stdout",
     "output_type": "stream",
     "text": [
      "Matrix([[1, 0, 0, 3, -1, -6], [0, 1, 0, -2, 1, 4], [0, 0, 1, -2, 1, 3]])\n"
     ]
    }
   ],
   "source": [
    "# Cara kedua untuk mencari inverse matriks A \n",
    "# dengan metode menggabungkan matriks A dengan matriks identitas\n",
    "# lalu mencari bentuk eselon dari matriks yang telah digabung tersebut\n",
    "# Metode ini menggunakan modul sympy\n",
    "\n",
    "from sympy import Matrix,eye\n",
    "\n",
    "A = Matrix([[1,3,-2],[2,3,0],[0,1,-1]])\n",
    "I = eye(3)\n",
    "M = A.row_join(I)\n",
    "M_rref_matrix, M_rref_pivots = M.rref()\n",
    "print(M_rref_matrix)"
   ]
  }
 ],
 "metadata": {
  "kernelspec": {
   "display_name": "Python 3",
   "language": "python",
   "name": "python3"
  },
  "language_info": {
   "codemirror_mode": {
    "name": "ipython",
    "version": 3
   },
   "file_extension": ".py",
   "mimetype": "text/x-python",
   "name": "python",
   "nbconvert_exporter": "python",
   "pygments_lexer": "ipython3",
   "version": "3.8.3"
  }
 },
 "nbformat": 4,
 "nbformat_minor": 4
}
