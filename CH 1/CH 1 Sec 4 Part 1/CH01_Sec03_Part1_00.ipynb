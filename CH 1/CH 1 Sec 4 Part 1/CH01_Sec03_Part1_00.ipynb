{
 "cells": [
  {
   "cell_type": "markdown",
   "metadata": {},
   "source": [
    "# Chapter 1, Section 3 Part 1\n",
    "\n",
    "Pada pembelajaran kali ini kita bertujuan untuk mengetahui apa yang disebut dengan 'inverse of a matrix' dan menunjukkan bagaimana cara untuk mengkalkulasi inverse dari sebuah matriks.\n",
    "\n",
    "### Contoh 1 :\n",
    "\n",
    "Carilah inverse dari sebuah matriks A, dimana matriks A adalah sebagai berikut :\n",
    "\n",
    "$$A = \\begin{pmatrix} 1 & 2\\\\-3 & 2\\end{pmatrix}$$"
   ]
  },
  {
   "cell_type": "code",
   "execution_count": 15,
   "metadata": {},
   "outputs": [
    {
     "name": "stdout",
     "output_type": "stream",
     "text": [
      "inverse matriks A adalah \n",
      "[[ 0.25  -0.25 ]\n",
      " [ 0.375  0.125]]\n"
     ]
    }
   ],
   "source": [
    "# Cara Pertama\n",
    "\n",
    "import numpy as np\n",
    "\n",
    "A = np.array([[1,2],[-3,2]])\n",
    "A_inv = np.linalg.inv(A)\n",
    "\n",
    "print('inverse matriks A adalah \\n' +str(A_inv))"
   ]
  },
  {
   "cell_type": "markdown",
   "metadata": {},
   "source": [
    "Jika kita melakukan perkalian matriks antara $$AA^{T}$$ maka kita akan mendapatkan identitas matriks $I$ "
   ]
  },
  {
   "cell_type": "code",
   "execution_count": 13,
   "metadata": {},
   "outputs": [
    {
     "name": "stdout",
     "output_type": "stream",
     "text": [
      "[[1. 0.]\n",
      " [0. 1.]]\n"
     ]
    }
   ],
   "source": [
    "I = A @ A_inv\n",
    "print(I)"
   ]
  },
  {
   "cell_type": "code",
   "execution_count": 14,
   "metadata": {},
   "outputs": [
    {
     "name": "stdout",
     "output_type": "stream",
     "text": [
      "[[1. 0.]\n",
      " [0. 1.]]\n"
     ]
    }
   ],
   "source": [
    "I = A_inv @ A\n",
    "print(C)"
   ]
  },
  {
   "cell_type": "code",
   "execution_count": 8,
   "metadata": {},
   "outputs": [
    {
     "name": "stdout",
     "output_type": "stream",
     "text": [
      "Matrix([[1, 0, 1/4, -1/4], [0, 1, 3/8, 1/8]])\n"
     ]
    }
   ],
   "source": [
    "# Cara kedua yang dapat dilakukan menggunakan module sympy\n",
    "# Untuk Mencari bentuk eselon baris dari matriks A yang digabungkan dengan identitas matriks\n",
    "\n",
    "from sympy import Matrix,eye\n",
    "\n",
    "A = Matrix([[1,2],[-3,2]])\n",
    "B = eye(2)\n",
    "M = A.row_join(B)\n",
    "rowEcelonForm, piv = M.rref()\n",
    "print(rowEcelonForm)"
   ]
  },
  {
   "cell_type": "code",
   "execution_count": null,
   "metadata": {},
   "outputs": [],
   "source": []
  }
 ],
 "metadata": {
  "kernelspec": {
   "display_name": "Python 3",
   "language": "python",
   "name": "python3"
  },
  "language_info": {
   "codemirror_mode": {
    "name": "ipython",
    "version": 3
   },
   "file_extension": ".py",
   "mimetype": "text/x-python",
   "name": "python",
   "nbconvert_exporter": "python",
   "pygments_lexer": "ipython3",
   "version": "3.8.3"
  }
 },
 "nbformat": 4,
 "nbformat_minor": 4
}
