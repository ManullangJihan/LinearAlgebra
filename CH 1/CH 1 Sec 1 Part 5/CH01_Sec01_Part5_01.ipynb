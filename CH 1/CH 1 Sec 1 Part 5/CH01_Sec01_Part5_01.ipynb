{
 "cells": [
  {
   "cell_type": "markdown",
   "metadata": {},
   "source": [
    "# Contoh kedua\n",
    "\n",
    "Carilah polinomial kubik yang melewati setiap poin (1,3), (2,-2), (3,-5), dan (4,0)\n",
    "\n",
    "$$y = a_{0} + a_{1}x + a_{2}*x^2 + a_{3}*x^3$$\n",
    "\n",
    "Sekarang mari kita subtitusi masing-masing empat titik \n",
    "\n",
    "$$(x,y)=(1,3)  ⟶  3  = a_{0}+ a_{1} + a_{2}+a_{3}$$\n",
    "$$(x,y)=(2,−2) ⟶ −2  = a_{0}+ 2a_{1} + 4a_{2} + 8a_{3}$$\n",
    "$$(x,y)=(3,−5) ⟶ −5  = a_{0}+ 3a_{1} + 9a_{2} + 27a_{3}$$\n",
    "$$(x,y)=(4,0)  ⟶  0  = a_{0}+ 4a_{1} + 16a_{2} + 64a_{3}$$\n",
    "\n",
    "Maka didapatkan persamaan sistem linear kita adalah:\n",
    "\n",
    "$$a_{0} + a_{1} + a_{2} + a_{3} = 3$$\n",
    "$$a_{0} + 2a_{1} + 4a_{2} + 8a_{3} = -1$$\n",
    "$$a_{0} + 3a_{1} + 9a_{2} + 27a_{3} = -4$$\n",
    "$$a_{0} + 4a_{1} + 16a_{2} + 64a_{3} = 0$$\n",
    "\n",
    "Langsung saja kita masukkan nilai matriks ini dan menggunakan perintah rref untuk mendapatkan bentuk eselon baris"
   ]
  },
  {
   "cell_type": "code",
   "execution_count": 2,
   "metadata": {},
   "outputs": [
    {
     "name": "stdout",
     "output_type": "stream",
     "text": [
      "Matrix([[1, 0, 0, 6, 10], [0, 1, 0, -11, -8], [0, 0, 1, 6, 1]])\n"
     ]
    }
   ],
   "source": [
    "import numpy as np\n",
    "from sympy import Matrix\n",
    "import matplotlib.pyplot as plt\n",
    "from mpl_toolkits.mplot3d import axes3d\n",
    "\n",
    "A = Matrix([[1,1,1,1,3],\n",
    "            [1,2,4,8,-2],\n",
    "            [1,3,9,27,-5]])\n",
    "system, piv = A.rref()\n",
    "print(system)"
   ]
  },
  {
   "cell_type": "code",
   "execution_count": 5,
   "metadata": {},
   "outputs": [
    {
     "data": {
      "image/png": "[encoded data removed]",
      "text/plain": [
       "<Figure size 432x288 with 1 Axes>"
      ]
     },
     "metadata": {
      "needs_background": "light"
     },
     "output_type": "display_data"
    }
   ],
   "source": [
    "# Visualize Our Answer\n",
    "x = np.linspace(0,5,200)\n",
    "y = 4 + 3*x - 5*x**2 + x**3\n",
    "fig = plt.figure()\n",
    "ax = fig.add_subplot(111)\n",
    "ax.plot(x,y)\n",
    "ax.plot([1,2,3,4],[3,-2,-5,0],'o',color='r')\n",
    "plt.xlim(right=5)\n",
    "plt.xlim(left=0)\n",
    "plt.ylim(top=15)\n",
    "plt.ylim(bottom=-10)\n",
    "plt.xlabel('x-axis')\n",
    "plt.ylabel('y-axis')\n",
    "ax.text(1,3.5,'(1,3)')\n",
    "ax.text(1.5,-2,'(2,-2)')\n",
    "ax.text(3,-5.5,'(3,-5)')\n",
    "ax.text(3.7,0.7,'(4,0)')\n",
    "plt.title(r'Graph of $y = 4+3x-5x^2 + x^3$')\n",
    "\n",
    "plt.show()"
   ]
  },
  {
   "cell_type": "markdown",
   "metadata": {},
   "source": [
    "Dari visualisasi yang telah kita lakukan dapat diketahui dengan jelas bahwa polinomial kubik kita berada pada seluruh titik yang ada"
   ]
  },
  {
   "cell_type": "code",
   "execution_count": null,
   "metadata": {},
   "outputs": [],
   "source": []
  }
 ],
 "metadata": {
  "kernelspec": {
   "display_name": "Python 3",
   "language": "python",
   "name": "python3"
  },
  "language_info": {
   "codemirror_mode": {
    "name": "ipython",
    "version": 3
   },
   "file_extension": ".py",
   "mimetype": "text/x-python",
   "name": "python",
   "nbconvert_exporter": "python",
   "pygments_lexer": "ipython3",
   "version": "3.8.3"
  }
 },
 "nbformat": 4,
 "nbformat_minor": 4
}
